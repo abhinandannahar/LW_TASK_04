{
 "cells": [
  {
   "cell_type": "code",
   "execution_count": 1,
   "id": "81f90bff",
   "metadata": {},
   "outputs": [],
   "source": [
    "import numpy as np"
   ]
  },
  {
   "cell_type": "code",
   "execution_count": 2,
   "id": "3e3cd781",
   "metadata": {},
   "outputs": [],
   "source": [
    "import cv2"
   ]
  },
  {
   "cell_type": "code",
   "execution_count": 3,
   "id": "6474ba09",
   "metadata": {},
   "outputs": [],
   "source": [
    "ph = np.zeros((600,600,3))"
   ]
  },
  {
   "cell_type": "code",
   "execution_count": 4,
   "id": "08222923",
   "metadata": {},
   "outputs": [
    {
     "data": {
      "text/plain": [
       "(600, 600, 3)"
      ]
     },
     "execution_count": 4,
     "metadata": {},
     "output_type": "execute_result"
    }
   ],
   "source": [
    "ph.shape"
   ]
  },
  {
   "cell_type": "code",
   "execution_count": 5,
   "id": "5ffe880c",
   "metadata": {},
   "outputs": [],
   "source": [
    "ph[50:150,200:300]=[0,255,0]\n",
    "ph[150:170,240:260]=[0,0,255]\n",
    "ph[170:300,150:350]=[255,0,0]\n",
    "ph[170:180,50:150]=[0,0,255]\n",
    "ph[170:250,50:60]=[0,0,255]\n",
    "ph[170:180,350:450]=[0,0,255]\n",
    "ph[90:170,440:450]=[0,0,255]"
   ]
  },
  {
   "cell_type": "code",
   "execution_count": 6,
   "id": "1b6476c4",
   "metadata": {},
   "outputs": [],
   "source": [
    "cv2.imshow(\"ph\",ph)\n",
    "cv2.waitKey()==13\n",
    "cv2.destroyAllWindows()"
   ]
  },
  {
   "cell_type": "code",
   "execution_count": null,
   "id": "3130d2c7",
   "metadata": {},
   "outputs": [],
   "source": []
  }
 ],
 "metadata": {
  "kernelspec": {
   "display_name": "Python 3",
   "language": "python",
   "name": "python3"
  },
  "language_info": {
   "codemirror_mode": {
    "name": "ipython",
    "version": 3
   },
   "file_extension": ".py",
   "mimetype": "text/x-python",
   "name": "python",
   "nbconvert_exporter": "python",
   "pygments_lexer": "ipython3",
   "version": "3.6.8"
  }
 },
 "nbformat": 4,
 "nbformat_minor": 5
}
