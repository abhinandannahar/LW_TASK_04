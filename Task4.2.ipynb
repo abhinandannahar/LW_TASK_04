{
 "cells": [
  {
   "cell_type": "code",
   "execution_count": 1,
   "id": "085cc183",
   "metadata": {},
   "outputs": [],
   "source": [
    "import cv2"
   ]
  },
  {
   "cell_type": "code",
   "execution_count": 2,
   "id": "e9ea163a",
   "metadata": {},
   "outputs": [],
   "source": [
    "img1 = cv2.imread(\"apple3.jpg\")"
   ]
  },
  {
   "cell_type": "code",
   "execution_count": 3,
   "id": "6533ca49",
   "metadata": {},
   "outputs": [],
   "source": [
    "img2 = cv2.imread(\"apple4.jpg\")"
   ]
  },
  {
   "cell_type": "code",
   "execution_count": 4,
   "id": "682010a8",
   "metadata": {},
   "outputs": [],
   "source": [
    "ph2 = img2[65:321,333:400]"
   ]
  },
  {
   "cell_type": "code",
   "execution_count": 5,
   "id": "dba12c3d",
   "metadata": {},
   "outputs": [],
   "source": [
    "cv2.imshow(\"ph\",img2)\n",
    "cv2.waitKey()==13\n",
    "cv2.destroyAllWindows()"
   ]
  },
  {
   "cell_type": "code",
   "execution_count": 6,
   "id": "43a83a8a",
   "metadata": {},
   "outputs": [],
   "source": [
    "ph1 = img1[136:276,85:299]"
   ]
  },
  {
   "cell_type": "code",
   "execution_count": 7,
   "id": "9769f55a",
   "metadata": {},
   "outputs": [],
   "source": [
    "img1[65:321,333:400]=ph2"
   ]
  },
  {
   "cell_type": "code",
   "execution_count": 8,
   "id": "4e7d7e37",
   "metadata": {},
   "outputs": [],
   "source": [
    "img2[136:276,85:299]=ph1"
   ]
  },
  {
   "cell_type": "code",
   "execution_count": 9,
   "id": "acf66a9f",
   "metadata": {},
   "outputs": [],
   "source": [
    "cv2.imshow(\"ph\",img2)\n",
    "cv2.waitKey()==13\n",
    "cv2.destroyAllWindows()"
   ]
  },
  {
   "cell_type": "code",
   "execution_count": null,
   "id": "60130fb1",
   "metadata": {},
   "outputs": [],
   "source": [
    "cv2.imshow(\"ph\",img1)\n",
    "cv2.waitKey()==13\n",
    "cv2.destroyAllWindows()"
   ]
  },
  {
   "cell_type": "code",
   "execution_count": null,
   "id": "48c91773",
   "metadata": {},
   "outputs": [],
   "source": []
  }
 ],
 "metadata": {
  "kernelspec": {
   "display_name": "Python 3",
   "language": "python",
   "name": "python3"
  },
  "language_info": {
   "codemirror_mode": {
    "name": "ipython",
    "version": 3
   },
   "file_extension": ".py",
   "mimetype": "text/x-python",
   "name": "python",
   "nbconvert_exporter": "python",
   "pygments_lexer": "ipython3",
   "version": "3.6.8"
  }
 },
 "nbformat": 4,
 "nbformat_minor": 5
}
