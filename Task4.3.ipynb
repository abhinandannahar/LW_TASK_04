{
 "cells": [
  {
   "cell_type": "code",
   "execution_count": 1,
   "id": "2ef46d56",
   "metadata": {},
   "outputs": [],
   "source": [
    "import cv2"
   ]
  },
  {
   "cell_type": "code",
   "execution_count": 2,
   "id": "b9f26c90",
   "metadata": {},
   "outputs": [],
   "source": [
    "import numpy as np"
   ]
  },
  {
   "cell_type": "code",
   "execution_count": 3,
   "id": "b5680408",
   "metadata": {},
   "outputs": [],
   "source": [
    "img1 = cv2.imread(\"apple3.jpg\")"
   ]
  },
  {
   "cell_type": "code",
   "execution_count": 4,
   "id": "2ea41fa4",
   "metadata": {},
   "outputs": [],
   "source": [
    "img2 = cv2.imread(\"apple5.jpg\")"
   ]
  },
  {
   "cell_type": "code",
   "execution_count": 5,
   "id": "60cce0f0",
   "metadata": {},
   "outputs": [
    {
     "data": {
      "text/plain": [
       "(500, 500, 3)"
      ]
     },
     "execution_count": 5,
     "metadata": {},
     "output_type": "execute_result"
    }
   ],
   "source": [
    "img1.shape"
   ]
  },
  {
   "cell_type": "code",
   "execution_count": 6,
   "id": "8820fcf6",
   "metadata": {},
   "outputs": [
    {
     "data": {
      "text/plain": [
       "(500, 500, 3)"
      ]
     },
     "execution_count": 6,
     "metadata": {},
     "output_type": "execute_result"
    }
   ],
   "source": [
    "img2.shape"
   ]
  },
  {
   "cell_type": "code",
   "execution_count": 7,
   "id": "245092d6",
   "metadata": {},
   "outputs": [],
   "source": [
    "c1 = np.hstack((img1,img2))"
   ]
  },
  {
   "cell_type": "code",
   "execution_count": 8,
   "id": "e256ee3a",
   "metadata": {},
   "outputs": [],
   "source": [
    "cv2.imshow(\"ph\",c1)\n",
    "cv2.waitKey()==13\n",
    "cv2.destroyAllWindows()"
   ]
  },
  {
   "cell_type": "code",
   "execution_count": 9,
   "id": "e9905cb8",
   "metadata": {},
   "outputs": [],
   "source": [
    "c2 = np.vstack((img1,img2))"
   ]
  },
  {
   "cell_type": "code",
   "execution_count": null,
   "id": "52ed617e",
   "metadata": {},
   "outputs": [],
   "source": [
    "cv2.imshow(\"ph\",c2)\n",
    "cv2.waitKey()==13\n",
    "cv2.destroyAllWindows()"
   ]
  },
  {
   "cell_type": "code",
   "execution_count": null,
   "id": "2ece631c",
   "metadata": {},
   "outputs": [],
   "source": []
  }
 ],
 "metadata": {
  "kernelspec": {
   "display_name": "Python 3",
   "language": "python",
   "name": "python3"
  },
  "language_info": {
   "codemirror_mode": {
    "name": "ipython",
    "version": 3
   },
   "file_extension": ".py",
   "mimetype": "text/x-python",
   "name": "python",
   "nbconvert_exporter": "python",
   "pygments_lexer": "ipython3",
   "version": "3.6.8"
  }
 },
 "nbformat": 4,
 "nbformat_minor": 5
}
